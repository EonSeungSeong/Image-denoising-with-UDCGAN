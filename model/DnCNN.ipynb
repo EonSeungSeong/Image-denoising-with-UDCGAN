{
 "cells": [
  {
   "cell_type": "markdown",
   "id": "6849b6b7",
   "metadata": {},
   "source": [
    "### reference : https://arxiv.org/abs/1608.03981\n",
    "### reference : https://github.com/cszn/DnCNN\n",
    "### reference : https://github.com/yjn870/DnCNN-pytorch"
   ]
  },
  {
   "cell_type": "code",
   "execution_count": 2,
   "id": "71ec1489",
   "metadata": {},
   "outputs": [],
   "source": [
    "from torch import nn"
   ]
  },
  {
   "cell_type": "code",
   "execution_count": 3,
   "id": "23652b4d",
   "metadata": {},
   "outputs": [],
   "source": [
    "class DnCNN(nn.Module):\n",
    "    def __init__(self, num_layers=17, num_features=64):\n",
    "        super(DnCNN, self).__init__()\n",
    "        layers = [nn.Sequential(nn.Conv2d(1, num_features, kernel_size=3, stride=1, padding=1),\n",
    "                                nn.ReLU(inplace=True))]\n",
    "        for i in range(num_layers - 2):\n",
    "            layers.append(nn.Sequential(nn.Conv2d(num_features, num_features, kernel_size=3, padding=1),\n",
    "                                        nn.BatchNorm2d(num_features),\n",
    "                                        nn.ReLU(inplace=True)))\n",
    "        layers.append(nn.Conv2d(num_features, 1, kernel_size=3, padding=1))\n",
    "        self.layers = nn.Sequential(*layers)\n",
    "\n",
    "        self._initialize_weights()\n",
    "\n",
    "    def _initialize_weights(self):\n",
    "        for m in self.modules():\n",
    "            if isinstance(m, nn.Conv2d):\n",
    "                nn.init.kaiming_normal_(m.weight)\n",
    "            elif isinstance(m, nn.BatchNorm2d):\n",
    "                nn.init.ones_(m.weight)\n",
    "                nn.init.zeros_(m.bias)\n",
    "\n",
    "    def forward(self, inputs):\n",
    "        y = inputs\n",
    "        residual = self.layers(y)\n",
    "        return y - residual"
   ]
  }
 ],
 "metadata": {
  "kernelspec": {
   "display_name": "Python 3 (ipykernel)",
   "language": "python",
   "name": "python3"
  },
  "language_info": {
   "codemirror_mode": {
    "name": "ipython",
    "version": 3
   },
   "file_extension": ".py",
   "mimetype": "text/x-python",
   "name": "python",
   "nbconvert_exporter": "python",
   "pygments_lexer": "ipython3",
   "version": "3.8.10"
  }
 },
 "nbformat": 4,
 "nbformat_minor": 5
}
